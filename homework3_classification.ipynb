{
 "cells": [
  {
   "cell_type": "code",
   "execution_count": 1,
   "id": "5c5faeaf",
   "metadata": {},
   "outputs": [],
   "source": [
    "filename =  'https://raw.githubusercontent.com/alexeygrigorev/mlbookcamp-code/master/chapter-02-car-price/data.csv'"
   ]
  },
  {
   "cell_type": "code",
   "execution_count": 2,
   "id": "160ad5fb",
   "metadata": {},
   "outputs": [],
   "source": [
    "import pandas as pd\n",
    "import numpy as np\n",
    "\n",
    "import matplotlib.pyplot as plt"
   ]
  },
  {
   "cell_type": "code",
   "execution_count": 3,
   "id": "07939159",
   "metadata": {},
   "outputs": [
    {
     "name": "stdout",
     "output_type": "stream",
     "text": [
      "\r",
      "  0% [                                                                          ]       0 / 1475504\r",
      "  0% [                                                                          ]    8192 / 1475504\r",
      "  1% [                                                                          ]   16384 / 1475504\r",
      "  1% [.                                                                         ]   24576 / 1475504\r",
      "  2% [.                                                                         ]   32768 / 1475504\r",
      "  2% [..                                                                        ]   40960 / 1475504\r",
      "  3% [..                                                                        ]   49152 / 1475504\r",
      "  3% [..                                                                        ]   57344 / 1475504\r",
      "  4% [...                                                                       ]   65536 / 1475504\r",
      "  4% [...                                                                       ]   73728 / 1475504\r",
      "  5% [....                                                                      ]   81920 / 1475504\r",
      "  6% [....                                                                      ]   90112 / 1475504\r",
      "  6% [....                                                                      ]   98304 / 1475504\r",
      "  7% [.....                                                                     ]  106496 / 1475504\r",
      "  7% [.....                                                                     ]  114688 / 1475504\r",
      "  8% [......                                                                    ]  122880 / 1475504\r",
      "  8% [......                                                                    ]  131072 / 1475504\r",
      "  9% [......                                                                    ]  139264 / 1475504\r",
      "  9% [.......                                                                   ]  147456 / 1475504\r",
      " 10% [.......                                                                   ]  155648 / 1475504\r",
      " 11% [........                                                                  ]  163840 / 1475504\r",
      " 11% [........                                                                  ]  172032 / 1475504\r",
      " 12% [.........                                                                 ]  180224 / 1475504\r",
      " 12% [.........                                                                 ]  188416 / 1475504\r",
      " 13% [.........                                                                 ]  196608 / 1475504\r",
      " 13% [..........                                                                ]  204800 / 1475504\r",
      " 14% [..........                                                                ]  212992 / 1475504\r",
      " 14% [...........                                                               ]  221184 / 1475504\r",
      " 15% [...........                                                               ]  229376 / 1475504\r",
      " 16% [...........                                                               ]  237568 / 1475504\r",
      " 16% [............                                                              ]  245760 / 1475504\r",
      " 17% [............                                                              ]  253952 / 1475504\r",
      " 17% [.............                                                             ]  262144 / 1475504\r",
      " 18% [.............                                                             ]  270336 / 1475504\r",
      " 18% [.............                                                             ]  278528 / 1475504\r",
      " 19% [..............                                                            ]  286720 / 1475504\r",
      " 19% [..............                                                            ]  294912 / 1475504\r",
      " 20% [...............                                                           ]  303104 / 1475504\r",
      " 21% [...............                                                           ]  311296 / 1475504\r",
      " 21% [................                                                          ]  319488 / 1475504\r",
      " 22% [................                                                          ]  327680 / 1475504\r",
      " 22% [................                                                          ]  335872 / 1475504\r",
      " 23% [.................                                                         ]  344064 / 1475504\r",
      " 23% [.................                                                         ]  352256 / 1475504\r",
      " 24% [..................                                                        ]  360448 / 1475504\r",
      " 24% [..................                                                        ]  368640 / 1475504\r",
      " 25% [..................                                                        ]  376832 / 1475504\r",
      " 26% [...................                                                       ]  385024 / 1475504\r",
      " 26% [...................                                                       ]  393216 / 1475504\r",
      " 27% [....................                                                      ]  401408 / 1475504\r",
      " 27% [....................                                                      ]  409600 / 1475504\r",
      " 28% [....................                                                      ]  417792 / 1475504\r",
      " 28% [.....................                                                     ]  425984 / 1475504\r",
      " 29% [.....................                                                     ]  434176 / 1475504\r",
      " 29% [......................                                                    ]  442368 / 1475504\r",
      " 30% [......................                                                    ]  450560 / 1475504\r",
      " 31% [.......................                                                   ]  458752 / 1475504\r",
      " 31% [.......................                                                   ]  466944 / 1475504\r",
      " 32% [.......................                                                   ]  475136 / 1475504\r",
      " 32% [........................                                                  ]  483328 / 1475504\r",
      " 33% [........................                                                  ]  491520 / 1475504\r",
      " 33% [.........................                                                 ]  499712 / 1475504\r",
      " 34% [.........................                                                 ]  507904 / 1475504\r",
      " 34% [.........................                                                 ]  516096 / 1475504\r",
      " 35% [..........................                                                ]  524288 / 1475504\r",
      " 36% [..........................                                                ]  532480 / 1475504\r",
      " 36% [...........................                                               ]  540672 / 1475504\r",
      " 37% [...........................                                               ]  548864 / 1475504\r",
      " 37% [...........................                                               ]  557056 / 1475504\r",
      " 38% [............................                                              ]  565248 / 1475504\r",
      " 38% [............................                                              ]  573440 / 1475504\r",
      " 39% [.............................                                             ]  581632 / 1475504\r",
      " 39% [.............................                                             ]  589824 / 1475504\r",
      " 40% [.............................                                             ]  598016 / 1475504\r",
      " 41% [..............................                                            ]  606208 / 1475504\r",
      " 41% [..............................                                            ]  614400 / 1475504\r",
      " 42% [...............................                                           ]  622592 / 1475504\r",
      " 42% [...............................                                           ]  630784 / 1475504\r",
      " 43% [................................                                          ]  638976 / 1475504\r",
      " 43% [................................                                          ]  647168 / 1475504\r",
      " 44% [................................                                          ]  655360 / 1475504\r",
      " 44% [.................................                                         ]  663552 / 1475504\r",
      " 45% [.................................                                         ]  671744 / 1475504\r",
      " 46% [..................................                                        ]  679936 / 1475504\r",
      " 46% [..................................                                        ]  688128 / 1475504\r",
      " 47% [..................................                                        ]  696320 / 1475504\r",
      " 47% [...................................                                       ]  704512 / 1475504\r",
      " 48% [...................................                                       ]  712704 / 1475504\r",
      " 48% [....................................                                      ]  720896 / 1475504\r",
      " 49% [....................................                                      ]  729088 / 1475504\r",
      " 49% [....................................                                      ]  737280 / 1475504\r",
      " 50% [.....................................                                     ]  745472 / 1475504\r",
      " 51% [.....................................                                     ]  753664 / 1475504\r",
      " 51% [......................................                                    ]  761856 / 1475504\r",
      " 52% [......................................                                    ]  770048 / 1475504\r",
      " 52% [.......................................                                   ]  778240 / 1475504\r",
      " 53% [.......................................                                   ]  786432 / 1475504\r",
      " 53% [.......................................                                   ]  794624 / 1475504\r",
      " 54% [........................................                                  ]  802816 / 1475504\r",
      " 54% [........................................                                  ]  811008 / 1475504\r",
      " 55% [.........................................                                 ]  819200 / 1475504\r",
      " 56% [.........................................                                 ]  827392 / 1475504\r",
      " 56% [.........................................                                 ]  835584 / 1475504\r",
      " 57% [..........................................                                ]  843776 / 1475504\r",
      " 57% [..........................................                                ]  851968 / 1475504\r",
      " 58% [...........................................                               ]  860160 / 1475504\r",
      " 58% [...........................................                               ]  868352 / 1475504\r",
      " 59% [...........................................                               ]  876544 / 1475504\r",
      " 59% [............................................                              ]  884736 / 1475504\r",
      " 60% [............................................                              ]  892928 / 1475504\r",
      " 61% [.............................................                             ]  901120 / 1475504\r",
      " 61% [.............................................                             ]  909312 / 1475504\r",
      " 62% [..............................................                            ]  917504 / 1475504\r",
      " 62% [..............................................                            ]  925696 / 1475504\r",
      " 63% [..............................................                            ]  933888 / 1475504\r",
      " 63% [...............................................                           ]  942080 / 1475504\r",
      " 64% [...............................................                           ]  950272 / 1475504\r",
      " 64% [................................................                          ]  958464 / 1475504\r",
      " 65% [................................................                          ]  966656 / 1475504\r",
      " 66% [................................................                          ]  974848 / 1475504\r",
      " 66% [.................................................                         ]  983040 / 1475504\r",
      " 67% [.................................................                         ]  991232 / 1475504\r",
      " 67% [..................................................                        ]  999424 / 1475504\r",
      " 68% [..................................................                        ] 1007616 / 1475504\r",
      " 68% [..................................................                        ] 1015808 / 1475504\r",
      " 69% [...................................................                       ] 1024000 / 1475504\r",
      " 69% [...................................................                       ] 1032192 / 1475504\r",
      " 70% [....................................................                      ] 1040384 / 1475504\r",
      " 71% [....................................................                      ] 1048576 / 1475504\r",
      " 71% [....................................................                      ] 1056768 / 1475504\r",
      " 72% [.....................................................                     ] 1064960 / 1475504\r",
      " 72% [.....................................................                     ] 1073152 / 1475504\r",
      " 73% [......................................................                    ] 1081344 / 1475504\r",
      " 73% [......................................................                    ] 1089536 / 1475504\r",
      " 74% [.......................................................                   ] 1097728 / 1475504\r",
      " 74% [.......................................................                   ] 1105920 / 1475504\r",
      " 75% [.......................................................                   ] 1114112 / 1475504\r",
      " 76% [........................................................                  ] 1122304 / 1475504\r",
      " 76% [........................................................                  ] 1130496 / 1475504\r",
      " 77% [.........................................................                 ] 1138688 / 1475504\r",
      " 77% [.........................................................                 ] 1146880 / 1475504\r",
      " 78% [.........................................................                 ] 1155072 / 1475504\r",
      " 78% [..........................................................                ] 1163264 / 1475504\r",
      " 79% [..........................................................                ] 1171456 / 1475504\r",
      " 79% [...........................................................               ] 1179648 / 1475504"
     ]
    },
    {
     "name": "stdout",
     "output_type": "stream",
     "text": [
      "100% [..........................................................................] 1475504 / 1475504data (9).csv\n"
     ]
    }
   ],
   "source": [
    "import wget\n",
    "\n",
    "data = wget.download(filename)\n",
    "print(data)"
   ]
  },
  {
   "cell_type": "code",
   "execution_count": 4,
   "id": "5a571384",
   "metadata": {},
   "outputs": [
    {
     "data": {
      "text/html": [
       "<div>\n",
       "<style scoped>\n",
       "    .dataframe tbody tr th:only-of-type {\n",
       "        vertical-align: middle;\n",
       "    }\n",
       "\n",
       "    .dataframe tbody tr th {\n",
       "        vertical-align: top;\n",
       "    }\n",
       "\n",
       "    .dataframe thead th {\n",
       "        text-align: right;\n",
       "    }\n",
       "</style>\n",
       "<table border=\"1\" class=\"dataframe\">\n",
       "  <thead>\n",
       "    <tr style=\"text-align: right;\">\n",
       "      <th></th>\n",
       "      <th>Make</th>\n",
       "      <th>Model</th>\n",
       "      <th>Year</th>\n",
       "      <th>Engine Fuel Type</th>\n",
       "      <th>Engine HP</th>\n",
       "      <th>Engine Cylinders</th>\n",
       "      <th>Transmission Type</th>\n",
       "      <th>Driven_Wheels</th>\n",
       "      <th>Number of Doors</th>\n",
       "      <th>Market Category</th>\n",
       "      <th>Vehicle Size</th>\n",
       "      <th>Vehicle Style</th>\n",
       "      <th>highway MPG</th>\n",
       "      <th>city mpg</th>\n",
       "      <th>Popularity</th>\n",
       "      <th>MSRP</th>\n",
       "    </tr>\n",
       "  </thead>\n",
       "  <tbody>\n",
       "    <tr>\n",
       "      <th>0</th>\n",
       "      <td>BMW</td>\n",
       "      <td>1 Series M</td>\n",
       "      <td>2011</td>\n",
       "      <td>premium unleaded (required)</td>\n",
       "      <td>335.0</td>\n",
       "      <td>6.0</td>\n",
       "      <td>MANUAL</td>\n",
       "      <td>rear wheel drive</td>\n",
       "      <td>2.0</td>\n",
       "      <td>Factory Tuner,Luxury,High-Performance</td>\n",
       "      <td>Compact</td>\n",
       "      <td>Coupe</td>\n",
       "      <td>26</td>\n",
       "      <td>19</td>\n",
       "      <td>3916</td>\n",
       "      <td>46135</td>\n",
       "    </tr>\n",
       "    <tr>\n",
       "      <th>1</th>\n",
       "      <td>BMW</td>\n",
       "      <td>1 Series</td>\n",
       "      <td>2011</td>\n",
       "      <td>premium unleaded (required)</td>\n",
       "      <td>300.0</td>\n",
       "      <td>6.0</td>\n",
       "      <td>MANUAL</td>\n",
       "      <td>rear wheel drive</td>\n",
       "      <td>2.0</td>\n",
       "      <td>Luxury,Performance</td>\n",
       "      <td>Compact</td>\n",
       "      <td>Convertible</td>\n",
       "      <td>28</td>\n",
       "      <td>19</td>\n",
       "      <td>3916</td>\n",
       "      <td>40650</td>\n",
       "    </tr>\n",
       "    <tr>\n",
       "      <th>2</th>\n",
       "      <td>BMW</td>\n",
       "      <td>1 Series</td>\n",
       "      <td>2011</td>\n",
       "      <td>premium unleaded (required)</td>\n",
       "      <td>300.0</td>\n",
       "      <td>6.0</td>\n",
       "      <td>MANUAL</td>\n",
       "      <td>rear wheel drive</td>\n",
       "      <td>2.0</td>\n",
       "      <td>Luxury,High-Performance</td>\n",
       "      <td>Compact</td>\n",
       "      <td>Coupe</td>\n",
       "      <td>28</td>\n",
       "      <td>20</td>\n",
       "      <td>3916</td>\n",
       "      <td>36350</td>\n",
       "    </tr>\n",
       "    <tr>\n",
       "      <th>3</th>\n",
       "      <td>BMW</td>\n",
       "      <td>1 Series</td>\n",
       "      <td>2011</td>\n",
       "      <td>premium unleaded (required)</td>\n",
       "      <td>230.0</td>\n",
       "      <td>6.0</td>\n",
       "      <td>MANUAL</td>\n",
       "      <td>rear wheel drive</td>\n",
       "      <td>2.0</td>\n",
       "      <td>Luxury,Performance</td>\n",
       "      <td>Compact</td>\n",
       "      <td>Coupe</td>\n",
       "      <td>28</td>\n",
       "      <td>18</td>\n",
       "      <td>3916</td>\n",
       "      <td>29450</td>\n",
       "    </tr>\n",
       "    <tr>\n",
       "      <th>4</th>\n",
       "      <td>BMW</td>\n",
       "      <td>1 Series</td>\n",
       "      <td>2011</td>\n",
       "      <td>premium unleaded (required)</td>\n",
       "      <td>230.0</td>\n",
       "      <td>6.0</td>\n",
       "      <td>MANUAL</td>\n",
       "      <td>rear wheel drive</td>\n",
       "      <td>2.0</td>\n",
       "      <td>Luxury</td>\n",
       "      <td>Compact</td>\n",
       "      <td>Convertible</td>\n",
       "      <td>28</td>\n",
       "      <td>18</td>\n",
       "      <td>3916</td>\n",
       "      <td>34500</td>\n",
       "    </tr>\n",
       "  </tbody>\n",
       "</table>\n",
       "</div>"
      ],
      "text/plain": [
       "  Make       Model  Year             Engine Fuel Type  Engine HP  \\\n",
       "0  BMW  1 Series M  2011  premium unleaded (required)      335.0   \n",
       "1  BMW    1 Series  2011  premium unleaded (required)      300.0   \n",
       "2  BMW    1 Series  2011  premium unleaded (required)      300.0   \n",
       "3  BMW    1 Series  2011  premium unleaded (required)      230.0   \n",
       "4  BMW    1 Series  2011  premium unleaded (required)      230.0   \n",
       "\n",
       "   Engine Cylinders Transmission Type     Driven_Wheels  Number of Doors  \\\n",
       "0               6.0            MANUAL  rear wheel drive              2.0   \n",
       "1               6.0            MANUAL  rear wheel drive              2.0   \n",
       "2               6.0            MANUAL  rear wheel drive              2.0   \n",
       "3               6.0            MANUAL  rear wheel drive              2.0   \n",
       "4               6.0            MANUAL  rear wheel drive              2.0   \n",
       "\n",
       "                         Market Category Vehicle Size Vehicle Style  \\\n",
       "0  Factory Tuner,Luxury,High-Performance      Compact         Coupe   \n",
       "1                     Luxury,Performance      Compact   Convertible   \n",
       "2                Luxury,High-Performance      Compact         Coupe   \n",
       "3                     Luxury,Performance      Compact         Coupe   \n",
       "4                                 Luxury      Compact   Convertible   \n",
       "\n",
       "   highway MPG  city mpg  Popularity   MSRP  \n",
       "0           26        19        3916  46135  \n",
       "1           28        19        3916  40650  \n",
       "2           28        20        3916  36350  \n",
       "3           28        18        3916  29450  \n",
       "4           28        18        3916  34500  "
      ]
     },
     "execution_count": 4,
     "metadata": {},
     "output_type": "execute_result"
    }
   ],
   "source": [
    "data = pd.read_csv('data.csv')\n",
    "data.head()"
   ]
  },
  {
   "cell_type": "code",
   "execution_count": 5,
   "id": "d7b79c23",
   "metadata": {
    "scrolled": false
   },
   "outputs": [
    {
     "data": {
      "text/plain": [
       "Index(['Make', 'Model', 'Year', 'Engine Fuel Type', 'Engine HP',\n",
       "       'Engine Cylinders', 'Transmission Type', 'Driven_Wheels',\n",
       "       'Number of Doors', 'Market Category', 'Vehicle Size', 'Vehicle Style',\n",
       "       'highway MPG', 'city mpg', 'Popularity', 'MSRP'],\n",
       "      dtype='object')"
      ]
     },
     "execution_count": 5,
     "metadata": {},
     "output_type": "execute_result"
    }
   ],
   "source": [
    "data.columns"
   ]
  },
  {
   "cell_type": "code",
   "execution_count": 6,
   "id": "09ff452f",
   "metadata": {},
   "outputs": [],
   "source": [
    "data.columns = data.columns.str.replace(' ', '_').str.lower()\n",
    "\n",
    "categorical_columns = list(data.dtypes[data.dtypes == 'object'].index)\n",
    "\n",
    "for c in categorical_columns:\n",
    "    data[c] = data[c].str.lower().str.replace(' ', '_')"
   ]
  },
  {
   "cell_type": "code",
   "execution_count": 7,
   "id": "528ce98d",
   "metadata": {},
   "outputs": [
    {
     "data": {
      "text/plain": [
       "Index(['make', 'model', 'year', 'engine_fuel_type', 'engine_hp',\n",
       "       'engine_cylinders', 'transmission_type', 'driven_wheels',\n",
       "       'number_of_doors', 'market_category', 'vehicle_size', 'vehicle_style',\n",
       "       'highway_mpg', 'city_mpg', 'popularity', 'msrp'],\n",
       "      dtype='object')"
      ]
     },
     "execution_count": 7,
     "metadata": {},
     "output_type": "execute_result"
    }
   ],
   "source": [
    "data.columns"
   ]
  },
  {
   "cell_type": "code",
   "execution_count": 8,
   "id": "e73efbbe",
   "metadata": {},
   "outputs": [],
   "source": [
    "df = data[['make', 'model', 'year', 'engine_hp', 'engine_cylinders', 'transmission_type', \n",
    "      'vehicle_style','highway_mpg', 'msrp']]"
   ]
  },
  {
   "cell_type": "code",
   "execution_count": 9,
   "id": "6c1bcfd4",
   "metadata": {},
   "outputs": [
    {
     "data": {
      "text/plain": [
       "make                  0\n",
       "model                 0\n",
       "year                  0\n",
       "engine_hp            69\n",
       "engine_cylinders     30\n",
       "transmission_type     0\n",
       "vehicle_style         0\n",
       "highway_mpg           0\n",
       "msrp                  0\n",
       "dtype: int64"
      ]
     },
     "execution_count": 9,
     "metadata": {},
     "output_type": "execute_result"
    }
   ],
   "source": [
    "df.isnull().sum()"
   ]
  },
  {
   "cell_type": "code",
   "execution_count": 10,
   "id": "4fe07333",
   "metadata": {},
   "outputs": [],
   "source": [
    "def missing_num(df, fill):\n",
    "    for col in df.columns:\n",
    "        if df[col].isnull().sum() > 0:\n",
    "            df[col] = df[col].fillna(fill)\n",
    "    return df"
   ]
  },
  {
   "cell_type": "code",
   "execution_count": 11,
   "id": "b5d8281b",
   "metadata": {},
   "outputs": [
    {
     "data": {
      "text/plain": [
       "make                 0\n",
       "model                0\n",
       "year                 0\n",
       "engine_hp            0\n",
       "engine_cylinders     0\n",
       "transmission_type    0\n",
       "vehicle_style        0\n",
       "highway_mpg          0\n",
       "msrp                 0\n",
       "dtype: int64"
      ]
     },
     "execution_count": 11,
     "metadata": {},
     "output_type": "execute_result"
    }
   ],
   "source": [
    "zero = 0\n",
    "df_no_missing = missing_num(df.copy(), zero)\n",
    "df_no_missing.isnull().sum()"
   ]
  },
  {
   "cell_type": "code",
   "execution_count": 12,
   "id": "6f3a5349",
   "metadata": {},
   "outputs": [],
   "source": [
    "df_no_missing['price'] = df_no_missing.msrp\n",
    "del df_no_missing['msrp']"
   ]
  },
  {
   "cell_type": "code",
   "execution_count": 13,
   "id": "900defad",
   "metadata": {},
   "outputs": [
    {
     "data": {
      "text/html": [
       "<div>\n",
       "<style scoped>\n",
       "    .dataframe tbody tr th:only-of-type {\n",
       "        vertical-align: middle;\n",
       "    }\n",
       "\n",
       "    .dataframe tbody tr th {\n",
       "        vertical-align: top;\n",
       "    }\n",
       "\n",
       "    .dataframe thead th {\n",
       "        text-align: right;\n",
       "    }\n",
       "</style>\n",
       "<table border=\"1\" class=\"dataframe\">\n",
       "  <thead>\n",
       "    <tr style=\"text-align: right;\">\n",
       "      <th></th>\n",
       "      <th>make</th>\n",
       "      <th>model</th>\n",
       "      <th>year</th>\n",
       "      <th>engine_hp</th>\n",
       "      <th>engine_cylinders</th>\n",
       "      <th>transmission_type</th>\n",
       "      <th>vehicle_style</th>\n",
       "      <th>highway_mpg</th>\n",
       "      <th>price</th>\n",
       "    </tr>\n",
       "  </thead>\n",
       "  <tbody>\n",
       "    <tr>\n",
       "      <th>0</th>\n",
       "      <td>bmw</td>\n",
       "      <td>1_series_m</td>\n",
       "      <td>2011</td>\n",
       "      <td>335.0</td>\n",
       "      <td>6.0</td>\n",
       "      <td>manual</td>\n",
       "      <td>coupe</td>\n",
       "      <td>26</td>\n",
       "      <td>46135</td>\n",
       "    </tr>\n",
       "    <tr>\n",
       "      <th>1</th>\n",
       "      <td>bmw</td>\n",
       "      <td>1_series</td>\n",
       "      <td>2011</td>\n",
       "      <td>300.0</td>\n",
       "      <td>6.0</td>\n",
       "      <td>manual</td>\n",
       "      <td>convertible</td>\n",
       "      <td>28</td>\n",
       "      <td>40650</td>\n",
       "    </tr>\n",
       "    <tr>\n",
       "      <th>2</th>\n",
       "      <td>bmw</td>\n",
       "      <td>1_series</td>\n",
       "      <td>2011</td>\n",
       "      <td>300.0</td>\n",
       "      <td>6.0</td>\n",
       "      <td>manual</td>\n",
       "      <td>coupe</td>\n",
       "      <td>28</td>\n",
       "      <td>36350</td>\n",
       "    </tr>\n",
       "    <tr>\n",
       "      <th>3</th>\n",
       "      <td>bmw</td>\n",
       "      <td>1_series</td>\n",
       "      <td>2011</td>\n",
       "      <td>230.0</td>\n",
       "      <td>6.0</td>\n",
       "      <td>manual</td>\n",
       "      <td>coupe</td>\n",
       "      <td>28</td>\n",
       "      <td>29450</td>\n",
       "    </tr>\n",
       "    <tr>\n",
       "      <th>4</th>\n",
       "      <td>bmw</td>\n",
       "      <td>1_series</td>\n",
       "      <td>2011</td>\n",
       "      <td>230.0</td>\n",
       "      <td>6.0</td>\n",
       "      <td>manual</td>\n",
       "      <td>convertible</td>\n",
       "      <td>28</td>\n",
       "      <td>34500</td>\n",
       "    </tr>\n",
       "    <tr>\n",
       "      <th>...</th>\n",
       "      <td>...</td>\n",
       "      <td>...</td>\n",
       "      <td>...</td>\n",
       "      <td>...</td>\n",
       "      <td>...</td>\n",
       "      <td>...</td>\n",
       "      <td>...</td>\n",
       "      <td>...</td>\n",
       "      <td>...</td>\n",
       "    </tr>\n",
       "    <tr>\n",
       "      <th>11909</th>\n",
       "      <td>acura</td>\n",
       "      <td>zdx</td>\n",
       "      <td>2012</td>\n",
       "      <td>300.0</td>\n",
       "      <td>6.0</td>\n",
       "      <td>automatic</td>\n",
       "      <td>4dr_hatchback</td>\n",
       "      <td>23</td>\n",
       "      <td>46120</td>\n",
       "    </tr>\n",
       "    <tr>\n",
       "      <th>11910</th>\n",
       "      <td>acura</td>\n",
       "      <td>zdx</td>\n",
       "      <td>2012</td>\n",
       "      <td>300.0</td>\n",
       "      <td>6.0</td>\n",
       "      <td>automatic</td>\n",
       "      <td>4dr_hatchback</td>\n",
       "      <td>23</td>\n",
       "      <td>56670</td>\n",
       "    </tr>\n",
       "    <tr>\n",
       "      <th>11911</th>\n",
       "      <td>acura</td>\n",
       "      <td>zdx</td>\n",
       "      <td>2012</td>\n",
       "      <td>300.0</td>\n",
       "      <td>6.0</td>\n",
       "      <td>automatic</td>\n",
       "      <td>4dr_hatchback</td>\n",
       "      <td>23</td>\n",
       "      <td>50620</td>\n",
       "    </tr>\n",
       "    <tr>\n",
       "      <th>11912</th>\n",
       "      <td>acura</td>\n",
       "      <td>zdx</td>\n",
       "      <td>2013</td>\n",
       "      <td>300.0</td>\n",
       "      <td>6.0</td>\n",
       "      <td>automatic</td>\n",
       "      <td>4dr_hatchback</td>\n",
       "      <td>23</td>\n",
       "      <td>50920</td>\n",
       "    </tr>\n",
       "    <tr>\n",
       "      <th>11913</th>\n",
       "      <td>lincoln</td>\n",
       "      <td>zephyr</td>\n",
       "      <td>2006</td>\n",
       "      <td>221.0</td>\n",
       "      <td>6.0</td>\n",
       "      <td>automatic</td>\n",
       "      <td>sedan</td>\n",
       "      <td>26</td>\n",
       "      <td>28995</td>\n",
       "    </tr>\n",
       "  </tbody>\n",
       "</table>\n",
       "<p>11914 rows × 9 columns</p>\n",
       "</div>"
      ],
      "text/plain": [
       "          make       model  year  engine_hp  engine_cylinders  \\\n",
       "0          bmw  1_series_m  2011      335.0               6.0   \n",
       "1          bmw    1_series  2011      300.0               6.0   \n",
       "2          bmw    1_series  2011      300.0               6.0   \n",
       "3          bmw    1_series  2011      230.0               6.0   \n",
       "4          bmw    1_series  2011      230.0               6.0   \n",
       "...        ...         ...   ...        ...               ...   \n",
       "11909    acura         zdx  2012      300.0               6.0   \n",
       "11910    acura         zdx  2012      300.0               6.0   \n",
       "11911    acura         zdx  2012      300.0               6.0   \n",
       "11912    acura         zdx  2013      300.0               6.0   \n",
       "11913  lincoln      zephyr  2006      221.0               6.0   \n",
       "\n",
       "      transmission_type  vehicle_style  highway_mpg  price  \n",
       "0                manual          coupe           26  46135  \n",
       "1                manual    convertible           28  40650  \n",
       "2                manual          coupe           28  36350  \n",
       "3                manual          coupe           28  29450  \n",
       "4                manual    convertible           28  34500  \n",
       "...                 ...            ...          ...    ...  \n",
       "11909         automatic  4dr_hatchback           23  46120  \n",
       "11910         automatic  4dr_hatchback           23  56670  \n",
       "11911         automatic  4dr_hatchback           23  50620  \n",
       "11912         automatic  4dr_hatchback           23  50920  \n",
       "11913         automatic          sedan           26  28995  \n",
       "\n",
       "[11914 rows x 9 columns]"
      ]
     },
     "execution_count": 13,
     "metadata": {},
     "output_type": "execute_result"
    }
   ],
   "source": [
    "df_no_missing"
   ]
  },
  {
   "cell_type": "code",
   "execution_count": 14,
   "id": "002056d1",
   "metadata": {},
   "outputs": [
    {
     "data": {
      "text/plain": [
       "0    automatic\n",
       "dtype: object"
      ]
     },
     "execution_count": 14,
     "metadata": {},
     "output_type": "execute_result"
    }
   ],
   "source": [
    "df_no_missing['transmission_type'].mode()"
   ]
  },
  {
   "cell_type": "code",
   "execution_count": 15,
   "id": "a890d70d",
   "metadata": {},
   "outputs": [
    {
     "data": {
      "text/plain": [
       "automatic           8266\n",
       "manual              2935\n",
       "automated_manual     626\n",
       "direct_drive          68\n",
       "unknown               19\n",
       "Name: transmission_type, dtype: int64"
      ]
     },
     "execution_count": 15,
     "metadata": {},
     "output_type": "execute_result"
    }
   ],
   "source": [
    "df_no_missing.transmission_type.value_counts()"
   ]
  },
  {
   "cell_type": "code",
   "execution_count": 16,
   "id": "a2040799",
   "metadata": {},
   "outputs": [
    {
     "data": {
      "text/plain": [
       "make                  object\n",
       "model                 object\n",
       "year                   int64\n",
       "engine_hp            float64\n",
       "engine_cylinders     float64\n",
       "transmission_type     object\n",
       "vehicle_style         object\n",
       "highway_mpg            int64\n",
       "price                  int64\n",
       "dtype: object"
      ]
     },
     "execution_count": 16,
     "metadata": {},
     "output_type": "execute_result"
    }
   ],
   "source": [
    "df_no_missing.dtypes"
   ]
  },
  {
   "cell_type": "code",
   "execution_count": 17,
   "id": "d0f432ca",
   "metadata": {},
   "outputs": [],
   "source": [
    "numerical = ['engine_hp', 'engine_cylinders', 'highway_mpg', 'year']"
   ]
  },
  {
   "cell_type": "code",
   "execution_count": 18,
   "id": "523aab03",
   "metadata": {},
   "outputs": [
    {
     "data": {
      "text/html": [
       "<div>\n",
       "<style scoped>\n",
       "    .dataframe tbody tr th:only-of-type {\n",
       "        vertical-align: middle;\n",
       "    }\n",
       "\n",
       "    .dataframe tbody tr th {\n",
       "        vertical-align: top;\n",
       "    }\n",
       "\n",
       "    .dataframe thead th {\n",
       "        text-align: right;\n",
       "    }\n",
       "</style>\n",
       "<table border=\"1\" class=\"dataframe\">\n",
       "  <thead>\n",
       "    <tr style=\"text-align: right;\">\n",
       "      <th></th>\n",
       "      <th>engine_hp</th>\n",
       "      <th>engine_cylinders</th>\n",
       "      <th>highway_mpg</th>\n",
       "      <th>year</th>\n",
       "    </tr>\n",
       "  </thead>\n",
       "  <tbody>\n",
       "    <tr>\n",
       "      <th>engine_hp</th>\n",
       "      <td>1.000000</td>\n",
       "      <td>0.774851</td>\n",
       "      <td>-0.415707</td>\n",
       "      <td>0.338714</td>\n",
       "    </tr>\n",
       "    <tr>\n",
       "      <th>engine_cylinders</th>\n",
       "      <td>0.774851</td>\n",
       "      <td>1.000000</td>\n",
       "      <td>-0.614541</td>\n",
       "      <td>-0.040708</td>\n",
       "    </tr>\n",
       "    <tr>\n",
       "      <th>highway_mpg</th>\n",
       "      <td>-0.415707</td>\n",
       "      <td>-0.614541</td>\n",
       "      <td>1.000000</td>\n",
       "      <td>0.258240</td>\n",
       "    </tr>\n",
       "    <tr>\n",
       "      <th>year</th>\n",
       "      <td>0.338714</td>\n",
       "      <td>-0.040708</td>\n",
       "      <td>0.258240</td>\n",
       "      <td>1.000000</td>\n",
       "    </tr>\n",
       "  </tbody>\n",
       "</table>\n",
       "</div>"
      ],
      "text/plain": [
       "                  engine_hp  engine_cylinders  highway_mpg      year\n",
       "engine_hp          1.000000          0.774851    -0.415707  0.338714\n",
       "engine_cylinders   0.774851          1.000000    -0.614541 -0.040708\n",
       "highway_mpg       -0.415707         -0.614541     1.000000  0.258240\n",
       "year               0.338714         -0.040708     0.258240  1.000000"
      ]
     },
     "execution_count": 18,
     "metadata": {},
     "output_type": "execute_result"
    }
   ],
   "source": [
    "df_no_missing[numerical].corr()"
   ]
  },
  {
   "cell_type": "code",
   "execution_count": 19,
   "id": "eaca9f26",
   "metadata": {},
   "outputs": [],
   "source": [
    "def price_binary(df, price): \n",
    "    price_mean = df['price'].mean()\n",
    "    df['above_average_' + price] = (df[price] > price_mean).astype(int)\n",
    "    return df"
   ]
  },
  {
   "cell_type": "code",
   "execution_count": 20,
   "id": "e4c7dffa",
   "metadata": {},
   "outputs": [],
   "source": [
    "df_new = price_binary(df_no_missing.copy(), 'price')\n",
    "del df_new['price']"
   ]
  },
  {
   "cell_type": "code",
   "execution_count": 21,
   "id": "d5645195",
   "metadata": {},
   "outputs": [],
   "source": [
    "from sklearn.model_selection import train_test_split\n",
    "\n",
    "df_fulltrain, df_test = train_test_split(df_new, test_size=0.2, random_state=42)\n",
    "df_train, df_val = train_test_split(df_fulltrain, test_size=0.25, random_state=42)"
   ]
  },
  {
   "cell_type": "code",
   "execution_count": 22,
   "id": "d0b37f53",
   "metadata": {},
   "outputs": [],
   "source": [
    "df_train = df_train.reset_index(drop=True)\n",
    "df_val = df_val.reset_index(drop=True)\n",
    "df_test = df_test.reset_index(drop=True)"
   ]
  },
  {
   "cell_type": "code",
   "execution_count": 23,
   "id": "959d2183",
   "metadata": {},
   "outputs": [],
   "source": [
    "y_train = df_train.above_average_price.values\n",
    "y_val = df_val.above_average_price.values\n",
    "y_test = df_test.above_average_price.values"
   ]
  },
  {
   "cell_type": "code",
   "execution_count": 24,
   "id": "3fd24a5f",
   "metadata": {},
   "outputs": [],
   "source": [
    "del df_train['above_average_price']\n",
    "del df_val['above_average_price']\n",
    "del df_test['above_average_price']"
   ]
  },
  {
   "cell_type": "code",
   "execution_count": null,
   "id": "bca9534b",
   "metadata": {},
   "outputs": [],
   "source": []
  },
  {
   "cell_type": "code",
   "execution_count": 25,
   "id": "62137093",
   "metadata": {},
   "outputs": [],
   "source": [
    "categorical = ['make', 'model', 'transmission_type', 'vehicle_style']"
   ]
  },
  {
   "cell_type": "code",
   "execution_count": 26,
   "id": "499332d3",
   "metadata": {},
   "outputs": [],
   "source": [
    "from sklearn.metrics import mutual_info_score"
   ]
  },
  {
   "cell_type": "code",
   "execution_count": 27,
   "id": "bcd5a107",
   "metadata": {},
   "outputs": [],
   "source": [
    "def mutual_info_above_avg_score(series):\n",
    "    return mutual_info_score(series, df_fulltrain.above_average_price)"
   ]
  },
  {
   "cell_type": "code",
   "execution_count": 28,
   "id": "a5492729",
   "metadata": {},
   "outputs": [
    {
     "data": {
      "text/plain": [
       "model                0.46\n",
       "make                 0.24\n",
       "vehicle_style        0.08\n",
       "transmission_type    0.02\n",
       "dtype: float64"
      ]
     },
     "execution_count": 28,
     "metadata": {},
     "output_type": "execute_result"
    }
   ],
   "source": [
    "mi = df_fulltrain[categorical].apply(mutual_info_above_avg_score)\n",
    "score = mi.sort_values(ascending=False)\n",
    "round(score, 2)"
   ]
  },
  {
   "cell_type": "code",
   "execution_count": null,
   "id": "135f5bfd",
   "metadata": {},
   "outputs": [],
   "source": []
  },
  {
   "cell_type": "code",
   "execution_count": 29,
   "id": "86962fb5",
   "metadata": {},
   "outputs": [],
   "source": [
    "from sklearn.feature_extraction import DictVectorizer"
   ]
  },
  {
   "cell_type": "code",
   "execution_count": 30,
   "id": "61f5774c",
   "metadata": {},
   "outputs": [],
   "source": [
    "train_dicts = df_train[categorical + numerical].to_dict(orient='records')"
   ]
  },
  {
   "cell_type": "code",
   "execution_count": 31,
   "id": "ea985a62",
   "metadata": {},
   "outputs": [],
   "source": [
    "dv = DictVectorizer(sparse=False)"
   ]
  },
  {
   "cell_type": "code",
   "execution_count": 32,
   "id": "c67ec211",
   "metadata": {},
   "outputs": [],
   "source": [
    "X_train = dv.fit_transform(train_dicts)"
   ]
  },
  {
   "cell_type": "code",
   "execution_count": 33,
   "id": "2c972ed4",
   "metadata": {},
   "outputs": [
    {
     "data": {
      "text/plain": [
       "array(['engine_cylinders', 'engine_hp', 'highway_mpg', 'make=acura',\n",
       "       'make=alfa_romeo', 'make=aston_martin', 'make=audi',\n",
       "       'make=bentley', 'make=bmw', 'make=bugatti', 'make=buick',\n",
       "       'make=cadillac', 'make=chevrolet', 'make=chrysler', 'make=dodge',\n",
       "       'make=ferrari', 'make=fiat', 'make=ford', 'make=genesis',\n",
       "       'make=gmc', 'make=honda', 'make=hummer', 'make=hyundai',\n",
       "       'make=infiniti', 'make=kia', 'make=lamborghini', 'make=land_rover',\n",
       "       'make=lexus', 'make=lincoln', 'make=lotus', 'make=maserati',\n",
       "       'make=maybach', 'make=mazda', 'make=mclaren', 'make=mercedes-benz',\n",
       "       'make=mitsubishi', 'make=nissan', 'make=oldsmobile',\n",
       "       'make=plymouth', 'make=pontiac', 'make=porsche',\n",
       "       'make=rolls-royce', 'make=saab', 'make=scion', 'make=spyker',\n",
       "       'make=subaru', 'make=suzuki', 'make=tesla', 'make=toyota',\n",
       "       'make=volkswagen', 'make=volvo', 'model=100', 'model=124_spider',\n",
       "       'model=190-class', 'model=1_series', 'model=2', 'model=200',\n",
       "       'model=200sx', 'model=240', 'model=240sx', 'model=2_series',\n",
       "       'model=3', 'model=300', 'model=300-class', 'model=3000gt',\n",
       "       'model=300m', 'model=300zx', 'model=323', 'model=350-class',\n",
       "       'model=350z', 'model=360', 'model=370z', 'model=3_series',\n",
       "       'model=3_series_gran_turismo', 'model=400-class',\n",
       "       'model=420-class', 'model=456m', 'model=458_italia',\n",
       "       'model=4_series', 'model=4_series_gran_coupe', 'model=4c',\n",
       "       'model=4runner', 'model=5', 'model=500', 'model=500-class',\n",
       "       'model=500e', 'model=500l', 'model=500x', 'model=550',\n",
       "       'model=560-class', 'model=57', 'model=570s', 'model=575m',\n",
       "       'model=599', 'model=5_series', 'model=5_series_gran_turismo',\n",
       "       'model=6', 'model=600-class', 'model=6000', 'model=612_scaglietti',\n",
       "       'model=62', 'model=626', 'model=6_series',\n",
       "       'model=6_series_gran_coupe', 'model=740', 'model=760', 'model=780',\n",
       "       'model=7_series', 'model=80', 'model=850', 'model=8_series',\n",
       "       'model=9-2x', 'model=9-3', 'model=9-3_griffin', 'model=9-4x',\n",
       "       'model=9-5', 'model=9-7x', 'model=90', 'model=900', 'model=9000',\n",
       "       'model=911', 'model=928', 'model=929', 'model=940', 'model=944',\n",
       "       'model=960', 'model=968', 'model=a3', 'model=a4', 'model=a5',\n",
       "       'model=a6', 'model=a7', 'model=a8', 'model=acadia',\n",
       "       'model=acadia_limited', 'model=accent', 'model=acclaim',\n",
       "       'model=accord', 'model=accord_crosstour', 'model=accord_hybrid',\n",
       "       'model=accord_plug-in_hybrid', 'model=achieva',\n",
       "       'model=activehybrid_5', 'model=activehybrid_7',\n",
       "       'model=activehybrid_x6', 'model=aerio', 'model=aerostar',\n",
       "       'model=alero', 'model=allante', 'model=allroad',\n",
       "       'model=allroad_quattro', 'model=alpina_b6_gran_coupe',\n",
       "       'model=alpina_b7', 'model=altima', 'model=altima_hybrid',\n",
       "       'model=amanti', 'model=amg_gt', 'model=armada', 'model=arnage',\n",
       "       'model=aspen', 'model=aspire', 'model=astro', 'model=astro_cargo',\n",
       "       'model=ats', 'model=ats_coupe', 'model=aurora', 'model=avalanche',\n",
       "       'model=avalon', 'model=avalon_hybrid', 'model=avenger',\n",
       "       'model=aventador', 'model=aveo', 'model=aviator', 'model=axxess',\n",
       "       'model=azera', 'model=aztek', 'model=azure', 'model=azure_t',\n",
       "       'model=b-class_electric_drive', 'model=b-series',\n",
       "       'model=b-series_pickup', 'model=b-series_truck',\n",
       "       'model=b9_tribeca', 'model=baja', 'model=beetle',\n",
       "       'model=beetle_convertible', 'model=beretta',\n",
       "       'model=black_diamond_avalanche', 'model=blackwood', 'model=blazer',\n",
       "       'model=bonneville', 'model=borrego', 'model=boxster',\n",
       "       'model=bravada', 'model=breeze', 'model=bronco', 'model=bronco_ii',\n",
       "       'model=brooklands', 'model=brougham', 'model=brz', 'model=c-class',\n",
       "       'model=c-max_hybrid', 'model=c/k_1500_series',\n",
       "       'model=c/k_2500_series', 'model=c30', 'model=c43_amg', 'model=c70',\n",
       "       'model=c8', 'model=cabrio', 'model=cabriolet', 'model=cadenza',\n",
       "       'model=caliber', 'model=camaro', 'model=camry',\n",
       "       'model=camry_hybrid', 'model=camry_solara', 'model=canyon',\n",
       "       'model=caprice', 'model=captiva_sport', 'model=caravan',\n",
       "       'model=carrera_gt', 'model=cascada', 'model=catera',\n",
       "       'model=cavalier', 'model=cayenne', 'model=cayman',\n",
       "       'model=cayman_s', 'model=cc', 'model=celebrity', 'model=celica',\n",
       "       'model=century', 'model=challenger', 'model=charger',\n",
       "       'model=chevy_van', 'model=city_express', 'model=civic',\n",
       "       'model=civic_crx', 'model=civic_del_sol', 'model=cl',\n",
       "       'model=cl-class', 'model=cla-class', 'model=classic',\n",
       "       'model=clk-class', 'model=cls-class', 'model=cobalt',\n",
       "       'model=colorado', 'model=colt', 'model=concorde',\n",
       "       'model=continental', 'model=continental_flying_spur',\n",
       "       'model=continental_flying_spur_speed', 'model=continental_gt',\n",
       "       'model=continental_gt_speed',\n",
       "       'model=continental_gt_speed_convertible', 'model=continental_gtc',\n",
       "       'model=continental_gtc_speed', 'model=continental_supersports',\n",
       "       'model=continental_supersports_convertible', 'model=contour',\n",
       "       'model=corniche', 'model=corolla', 'model=corolla_im',\n",
       "       'model=corrado', 'model=corvette', 'model=corvette_stingray',\n",
       "       'model=coupe', 'model=cr-v', 'model=cr-z', 'model=cressida',\n",
       "       'model=crossfire', 'model=crosstour', 'model=crosstrek',\n",
       "       'model=crown_victoria', 'model=cruze', 'model=cruze_limited',\n",
       "       'model=ct6', 'model=cts', 'model=cts-v', 'model=cts-v_coupe',\n",
       "       'model=cts-v_wagon', 'model=cts_coupe', 'model=cts_wagon',\n",
       "       'model=cube', 'model=custom_cruiser', 'model=cutlass',\n",
       "       'model=cutlass_calais', 'model=cutlass_ciera',\n",
       "       'model=cutlass_supreme', 'model=cx-3', 'model=cx-5', 'model=cx-7',\n",
       "       'model=cx-9', 'model=dakota', 'model=dart', 'model=dawn',\n",
       "       'model=daytona', 'model=db9', 'model=db9_gt', 'model=dbs',\n",
       "       'model=defender', 'model=deville', 'model=diablo',\n",
       "       'model=diamante', 'model=discovery', 'model=discovery_series_ii',\n",
       "       'model=discovery_sport', 'model=dts', 'model=durango',\n",
       "       'model=dynasty', 'model=e-150', 'model=e-250', 'model=e-class',\n",
       "       'model=e-golf', 'model=e-series_van', 'model=e-series_wagon',\n",
       "       'model=e55_amg', 'model=echo', 'model=eclipse',\n",
       "       'model=eclipse_spyder', 'model=edge', 'model=eighty-eight',\n",
       "       'model=eighty-eight_royale', 'model=elantra',\n",
       "       'model=elantra_coupe', 'model=elantra_gt', 'model=elantra_touring',\n",
       "       'model=eldorado', 'model=electra', 'model=element', 'model=elise',\n",
       "       'model=enclave', 'model=encore', 'model=endeavor',\n",
       "       'model=entourage', 'model=envision', 'model=envoy',\n",
       "       'model=envoy_xl', 'model=envoy_xuv', 'model=eos', 'model=equator',\n",
       "       'model=equinox', 'model=equus', 'model=es_250', 'model=es_300',\n",
       "       'model=es_300h', 'model=escalade', 'model=escalade_esv',\n",
       "       'model=escalade_ext', 'model=escalade_hybrid', 'model=escape',\n",
       "       'model=escape_hybrid', 'model=escort', 'model=esprit',\n",
       "       'model=esteem', 'model=eurovan', 'model=evora', 'model=ex',\n",
       "       'model=ex35', 'model=excel', 'model=exige', 'model=expedition',\n",
       "       'model=explorer', 'model=explorer_sport',\n",
       "       'model=explorer_sport_trac', 'model=expo', 'model=express',\n",
       "       'model=express_cargo', 'model=f-150', 'model=f-150_heritage',\n",
       "       'model=f-150_svt_lightning', 'model=f-250', 'model=f12_berlinetta',\n",
       "       'model=f430', 'model=festiva', 'model=ff', 'model=fiesta',\n",
       "       'model=firebird', 'model=fit', 'model=five_hundred',\n",
       "       'model=fj_cruiser', 'model=fleetwood', 'model=flex',\n",
       "       'model=flying_spur', 'model=focus', 'model=focus_st',\n",
       "       'model=forenza', 'model=forester', 'model=forte', 'model=fox',\n",
       "       'model=fr-s', 'model=freelander', 'model=freestar',\n",
       "       'model=freestyle', 'model=frontier', 'model=fusion',\n",
       "       'model=fusion_hybrid', 'model=fx', 'model=fx35', 'model=fx45',\n",
       "       'model=fx50', 'model=g-class', 'model=g20', 'model=g3',\n",
       "       'model=g35', 'model=g37', 'model=g37_convertible',\n",
       "       'model=g37_coupe', 'model=g37_sedan', 'model=g5', 'model=g6',\n",
       "       'model=g8', 'model=g80', 'model=g_convertible', 'model=g_coupe',\n",
       "       'model=g_sedan', 'model=galant', 'model=gallardo', 'model=genesis',\n",
       "       'model=genesis_coupe', 'model=ghibli', 'model=ghost',\n",
       "       'model=ghost_series_ii', 'model=gl-class', 'model=gla-class',\n",
       "       'model=glc-class', 'model=gle-class', 'model=gle-class_coupe',\n",
       "       'model=gli', 'model=glk-class', 'model=gls-class', 'model=golf',\n",
       "       'model=golf_alltrack', 'model=golf_gti', 'model=golf_r',\n",
       "       'model=golf_sportwagen', 'model=grand_am', 'model=grand_caravan',\n",
       "       'model=grand_prix', 'model=grand_vitara', 'model=grand_voyager',\n",
       "       'model=gransport', 'model=granturismo',\n",
       "       'model=granturismo_convertible', 'model=gs_200t', 'model=gs_300',\n",
       "       'model=gs_350', 'model=gs_400', 'model=gs_430', 'model=gs_450h',\n",
       "       'model=gs_460', 'model=gt', 'model=gt-r', 'model=gti', 'model=gto',\n",
       "       'model=gx_460', 'model=gx_470', 'model=h3', 'model=h3t',\n",
       "       'model=hhr', 'model=highlander', 'model=highlander_hybrid',\n",
       "       'model=horizon', 'model=hr-v', 'model=hs_250h', 'model=huracan',\n",
       "       'model=i-miev', 'model=i3', 'model=i30', 'model=i35', 'model=ia',\n",
       "       'model=ilx', 'model=ilx_hybrid', 'model=impala',\n",
       "       'model=impala_limited', 'model=imperial', 'model=impreza',\n",
       "       'model=impreza_wrx', 'model=insight', 'model=integra',\n",
       "       'model=intrepid', 'model=intrigue', 'model=iq', 'model=is_200t',\n",
       "       'model=is_250', 'model=is_250_c', 'model=is_300', 'model=is_350',\n",
       "       'model=is_350_c', 'model=is_f', 'model=j30', 'model=jetta',\n",
       "       'model=jetta_gli', 'model=jetta_hybrid', 'model=jetta_sportwagen',\n",
       "       'model=jimmy', 'model=journey', 'model=juke', 'model=justy',\n",
       "       'model=jx', 'model=k900', 'model=kizashi', 'model=lacrosse',\n",
       "       'model=lancer', 'model=lancer_evolution', 'model=lancer_sportback',\n",
       "       'model=land_cruiser', 'model=laser', 'model=le_baron',\n",
       "       'model=le_mans', 'model=leaf', 'model=legacy', 'model=legend',\n",
       "       'model=lesabre', 'model=levante', 'model=lfa', 'model=lhs',\n",
       "       'model=loyale', 'model=lr2', 'model=lr3', 'model=lr4', 'model=ls',\n",
       "       'model=ls_400', 'model=ls_430', 'model=ls_460', 'model=ls_600h_l',\n",
       "       'model=lss', 'model=ltd_crown_victoria', 'model=lucerne',\n",
       "       'model=lumina', 'model=lumina_minivan', 'model=lx_450',\n",
       "       'model=lx_470', 'model=lx_570', 'model=m', 'model=m-class',\n",
       "       'model=m2', 'model=m3', 'model=m30', 'model=m35', 'model=m37',\n",
       "       'model=m4', 'model=m45', 'model=m5', 'model=m56', 'model=m6',\n",
       "       'model=m6_gran_coupe', 'model=macan', 'model=magnum',\n",
       "       'model=malibu', 'model=malibu_classic', 'model=malibu_hybrid',\n",
       "       'model=malibu_limited', 'model=malibu_maxx', 'model=mark_lt',\n",
       "       'model=mark_vii', 'model=mark_viii', 'model=matrix',\n",
       "       'model=maxima', 'model=maybach', 'model=mazdaspeed_3',\n",
       "       'model=mazdaspeed_mx-5_miata', 'model=mazdaspeed_protege',\n",
       "       'model=mdx', 'model=metris', 'model=metro',\n",
       "       'model=mighty_max_pickup', 'model=millenia', 'model=mirage',\n",
       "       'model=mirage_g4', 'model=mkc', 'model=mks', 'model=mkt',\n",
       "       'model=mkx', 'model=mkz', 'model=mkz_hybrid', 'model=model_s',\n",
       "       'model=monaco', 'model=montana', 'model=montana_sv6',\n",
       "       'model=monte_carlo', 'model=montero', 'model=montero_sport',\n",
       "       'model=mp4-12c', 'model=mpv', 'model=mr2', 'model=mr2_spyder',\n",
       "       'model=mulsanne', 'model=murano', 'model=murano_crosscabriolet',\n",
       "       'model=murcielago', 'model=mustang', 'model=mustang_svt_cobra',\n",
       "       'model=mx-3', 'model=mx-5_miata', 'model=mx-6', 'model=navajo',\n",
       "       'model=navigator', 'model=neon', 'model=new_beetle',\n",
       "       'model=new_yorker', 'model=ninety-eight', 'model=nitro',\n",
       "       'model=nsx', 'model=nv200', 'model=nx', 'model=nx_200t',\n",
       "       'model=nx_300h', 'model=odyssey', 'model=omni', 'model=optima',\n",
       "       'model=optima_hybrid', 'model=outback', 'model=outlander',\n",
       "       'model=outlander_sport', 'model=pacifica', 'model=panamera',\n",
       "       'model=park_avenue', 'model=paseo', 'model=passat',\n",
       "       'model=passport', 'model=pathfinder', 'model=phaeton',\n",
       "       'model=phantom', 'model=phantom_coupe',\n",
       "       'model=phantom_drophead_coupe', 'model=pickup', 'model=pilot',\n",
       "       'model=precis', 'model=prelude', 'model=previa', 'model=prius',\n",
       "       'model=prius_c', 'model=prius_prime', 'model=prius_v',\n",
       "       'model=prizm', 'model=probe', 'model=protege', 'model=protege5',\n",
       "       'model=prowler', 'model=pt_cruiser', 'model=q3', 'model=q40',\n",
       "       'model=q45', 'model=q5', 'model=q50', 'model=q60_convertible',\n",
       "       'model=q60_coupe', 'model=q7', 'model=q70', 'model=quattroporte',\n",
       "       'model=quest', 'model=qx', 'model=qx4', 'model=qx50', 'model=qx56',\n",
       "       'model=qx60', 'model=qx70', 'model=qx80', 'model=r-class',\n",
       "       'model=r32', 'model=r8', 'model=rabbit', 'model=raider',\n",
       "       'model=rainier', 'model=rally_wagon', 'model=ram_150',\n",
       "       'model=ram_250', 'model=ram_50_pickup', 'model=ram_cargo',\n",
       "       'model=ram_pickup_1500', 'model=ram_van', 'model=ram_wagon',\n",
       "       'model=ramcharger', 'model=range_rover',\n",
       "       'model=range_rover_evoque', 'model=range_rover_sport',\n",
       "       'model=ranger', 'model=rapide', 'model=rapide_s', 'model=rav4',\n",
       "       'model=rav4_ev', 'model=rav4_hybrid', 'model=rc_200t',\n",
       "       'model=rc_300', 'model=rc_350', 'model=rdx', 'model=reatta',\n",
       "       'model=regal', 'model=regency', 'model=rendezvous', 'model=reno',\n",
       "       'model=reventon', 'model=ridgeline', 'model=rio', 'model=riviera',\n",
       "       'model=rl', 'model=rlx', 'model=roadmaster', 'model=rogue',\n",
       "       'model=rogue_select', 'model=rondo', 'model=routan', 'model=rs_4',\n",
       "       'model=rs_5', 'model=rs_7', 'model=rsx', 'model=rx-7',\n",
       "       'model=rx-8', 'model=rx_300', 'model=rx_330', 'model=rx_350',\n",
       "       'model=rx_400h', 'model=rx_450h', 'model=s-10',\n",
       "       'model=s-10_blazer', 'model=s-15', 'model=s-15_jimmy',\n",
       "       'model=s-class', 'model=s2000', 'model=s3', 'model=s4',\n",
       "       'model=s40', 'model=s5', 'model=s6', 'model=s60',\n",
       "       'model=s60_cross_country', 'model=s7', 'model=s70', 'model=s8',\n",
       "       'model=s80', 'model=s90', 'model=safari', 'model=safari_cargo',\n",
       "       'model=samurai', 'model=santa_fe', 'model=santa_fe_sport',\n",
       "       'model=savana', 'model=savana_cargo', 'model=sc_300',\n",
       "       'model=sc_400', 'model=sc_430', 'model=scoupe', 'model=sebring',\n",
       "       'model=sedona', 'model=sentra', 'model=sephia', 'model=sequoia',\n",
       "       'model=seville', 'model=shadow', 'model=shelby_gt350',\n",
       "       'model=shelby_gt500', 'model=sidekick', 'model=sienna',\n",
       "       'model=sierra_1500', 'model=sierra_1500_classic',\n",
       "       'model=sierra_1500_hybrid', 'model=sierra_1500hd',\n",
       "       'model=sierra_c3', 'model=sierra_classic_1500', 'model=sigma',\n",
       "       'model=silhouette', 'model=silver_seraph', 'model=silverado_1500',\n",
       "       'model=silverado_1500_classic', 'model=silverado_1500_hybrid',\n",
       "       'model=skylark', 'model=sl-class', 'model=slc-class',\n",
       "       'model=slk-class', 'model=slr_mclaren', 'model=sls_amg',\n",
       "       'model=sls_amg_gt', 'model=sls_amg_gt_final_edition', 'model=slx',\n",
       "       'model=solstice', 'model=sonata', 'model=sonata_hybrid',\n",
       "       'model=sonic', 'model=sonoma', 'model=sorento', 'model=soul',\n",
       "       'model=soul_ev', 'model=spark', 'model=spark_ev', 'model=spectra',\n",
       "       'model=spirit', 'model=sportage', 'model=sportvan', 'model=spyder',\n",
       "       'model=sq5', 'model=srt_viper', 'model=srx', 'model=stanza',\n",
       "       'model=stealth', 'model=stratus', 'model=sts', 'model=sts-v',\n",
       "       'model=suburban', 'model=sunbird', 'model=sundance',\n",
       "       'model=sunfire', 'model=supra', 'model=svx', 'model=swift',\n",
       "       'model=sx4', 'model=syclone', 'model=t100', 'model=tacoma',\n",
       "       'model=tahoe', 'model=tahoe_hybrid', 'model=tahoe_limited/z71',\n",
       "       'model=taurus', 'model=taurus_x', 'model=tc', 'model=tempo',\n",
       "       'model=tercel', 'model=terrain', 'model=terraza',\n",
       "       'model=thunderbird', 'model=tiburon', 'model=tiguan',\n",
       "       'model=titan', 'model=tl', 'model=tlx', 'model=toronado',\n",
       "       'model=torrent', 'model=touareg', 'model=touareg_2',\n",
       "       'model=town_and_country', 'model=town_car', 'model=tracker',\n",
       "       'model=trailblazer', 'model=trailblazer_ext', 'model=trans_sport',\n",
       "       'model=transit_connect', 'model=transit_wagon', 'model=traverse',\n",
       "       'model=trax', 'model=tribeca', 'model=tribute',\n",
       "       'model=tribute_hybrid', 'model=truck', 'model=tsx',\n",
       "       'model=tsx_sport_wagon', 'model=tt', 'model=tts', 'model=tucson',\n",
       "       'model=tundra', 'model=typhoon', 'model=uplander',\n",
       "       'model=v12_vanquish', 'model=v12_vantage', 'model=v12_vantage_s',\n",
       "       'model=v40', 'model=v50', 'model=v60', 'model=v60_cross_country',\n",
       "       'model=v70', 'model=v8_vantage', 'model=van', 'model=vanagon',\n",
       "       'model=vandura', 'model=vanquish', 'model=vanwagon',\n",
       "       'model=veloster', 'model=venture', 'model=venza', 'model=veracruz',\n",
       "       'model=verano', 'model=verona', 'model=versa', 'model=versa_note',\n",
       "       'model=veyron_16.4', 'model=vibe', 'model=vigor', 'model=viper',\n",
       "       'model=virage', 'model=vitara', 'model=voyager', 'model=windstar',\n",
       "       'model=windstar_cargo', 'model=wraith', 'model=wrx', 'model=x-90',\n",
       "       'model=x1', 'model=x3', 'model=x4', 'model=x5', 'model=x5_m',\n",
       "       'model=x6', 'model=x6_m', 'model=xa', 'model=xb', 'model=xc',\n",
       "       'model=xc60', 'model=xc70', 'model=xc90', 'model=xd',\n",
       "       'model=xg300', 'model=xg350', 'model=xl-7', 'model=xl7',\n",
       "       'model=xlr', 'model=xlr-v', 'model=xt', 'model=xt5',\n",
       "       'model=xterra', 'model=xts', 'model=xv_crosstrek', 'model=yaris',\n",
       "       'model=yaris_ia', 'model=yukon', 'model=yukon_denali',\n",
       "       'model=yukon_hybrid', 'model=yukon_xl', 'model=z3', 'model=z4',\n",
       "       'model=z4_m', 'model=z8', 'model=zdx',\n",
       "       'transmission_type=automated_manual',\n",
       "       'transmission_type=automatic', 'transmission_type=direct_drive',\n",
       "       'transmission_type=manual', 'transmission_type=unknown',\n",
       "       'vehicle_style=2dr_hatchback', 'vehicle_style=2dr_suv',\n",
       "       'vehicle_style=4dr_hatchback', 'vehicle_style=4dr_suv',\n",
       "       'vehicle_style=cargo_minivan', 'vehicle_style=cargo_van',\n",
       "       'vehicle_style=convertible', 'vehicle_style=convertible_suv',\n",
       "       'vehicle_style=coupe', 'vehicle_style=crew_cab_pickup',\n",
       "       'vehicle_style=extended_cab_pickup',\n",
       "       'vehicle_style=passenger_minivan', 'vehicle_style=passenger_van',\n",
       "       'vehicle_style=regular_cab_pickup', 'vehicle_style=sedan',\n",
       "       'vehicle_style=wagon', 'year'], dtype=object)"
      ]
     },
     "execution_count": 33,
     "metadata": {},
     "output_type": "execute_result"
    }
   ],
   "source": [
    "dv.get_feature_names_out()"
   ]
  },
  {
   "cell_type": "code",
   "execution_count": 34,
   "id": "a1d55519",
   "metadata": {},
   "outputs": [],
   "source": [
    "val_dicts = df_val[categorical + numerical].to_dict(orient='records')"
   ]
  },
  {
   "cell_type": "code",
   "execution_count": 35,
   "id": "88760fec",
   "metadata": {},
   "outputs": [],
   "source": [
    "X_val = dv.transform(val_dicts)"
   ]
  },
  {
   "cell_type": "code",
   "execution_count": 36,
   "id": "279c0233",
   "metadata": {},
   "outputs": [],
   "source": [
    "from sklearn.linear_model import LogisticRegression"
   ]
  },
  {
   "cell_type": "code",
   "execution_count": 37,
   "id": "2f50bb32",
   "metadata": {},
   "outputs": [],
   "source": [
    "model = LogisticRegression(solver='liblinear', C=10, max_iter=1000, random_state=42)"
   ]
  },
  {
   "cell_type": "code",
   "execution_count": 38,
   "id": "131be35c",
   "metadata": {},
   "outputs": [
    {
     "data": {
      "text/plain": [
       "LogisticRegression(C=10, max_iter=1000, random_state=42, solver='liblinear')"
      ]
     },
     "execution_count": 38,
     "metadata": {},
     "output_type": "execute_result"
    }
   ],
   "source": [
    "model.fit(X_train, y_train)"
   ]
  },
  {
   "cell_type": "code",
   "execution_count": 39,
   "id": "c31b4d55",
   "metadata": {},
   "outputs": [
    {
     "data": {
      "text/plain": [
       "array([3.84167872e-02, 9.81481058e-02, 9.99642644e-01, ...,\n",
       "       4.89199860e-02, 3.82507375e-04, 5.69784875e-01])"
      ]
     },
     "execution_count": 39,
     "metadata": {},
     "output_type": "execute_result"
    }
   ],
   "source": [
    "model.predict_proba(X_train)[:, 1]"
   ]
  },
  {
   "cell_type": "code",
   "execution_count": 40,
   "id": "4eb0eb25",
   "metadata": {},
   "outputs": [],
   "source": [
    "y_pred = model.predict_proba(X_val)[:, 1]"
   ]
  },
  {
   "cell_type": "code",
   "execution_count": 41,
   "id": "140cf374",
   "metadata": {},
   "outputs": [],
   "source": [
    "decision = (y_pred >= 0.5)"
   ]
  },
  {
   "cell_type": "code",
   "execution_count": 42,
   "id": "5f9bf944",
   "metadata": {},
   "outputs": [
    {
     "data": {
      "text/plain": [
       "array([0, 1, 0, ..., 0, 1, 1])"
      ]
     },
     "execution_count": 42,
     "metadata": {},
     "output_type": "execute_result"
    }
   ],
   "source": [
    "decision = decision.astype(int)\n",
    "decision"
   ]
  },
  {
   "cell_type": "code",
   "execution_count": 43,
   "id": "f9ad5aed",
   "metadata": {},
   "outputs": [
    {
     "data": {
      "text/plain": [
       "0.93"
      ]
     },
     "execution_count": 43,
     "metadata": {},
     "output_type": "execute_result"
    }
   ],
   "source": [
    "original_score = round((y_val == decision).mean(), 2)\n",
    "original_score"
   ]
  },
  {
   "cell_type": "code",
   "execution_count": null,
   "id": "c17b34ae",
   "metadata": {},
   "outputs": [],
   "source": []
  },
  {
   "cell_type": "code",
   "execution_count": 44,
   "id": "ff5f0de6",
   "metadata": {},
   "outputs": [
    {
     "data": {
      "text/plain": [
       "['make',\n",
       " 'model',\n",
       " 'transmission_type',\n",
       " 'vehicle_style',\n",
       " 'engine_hp',\n",
       " 'engine_cylinders',\n",
       " 'highway_mpg',\n",
       " 'year']"
      ]
     },
     "execution_count": 44,
     "metadata": {},
     "output_type": "execute_result"
    }
   ],
   "source": [
    "data = categorical + numerical\n",
    "data"
   ]
  },
  {
   "cell_type": "code",
   "execution_count": 45,
   "id": "64ea5f4a",
   "metadata": {},
   "outputs": [],
   "source": [
    "original_score \n",
    "def feat_elimination(df):\n",
    "    \n",
    "    for col in df:\n",
    "        df_sub = df.copy()\n",
    "        df_sub.remove(col)\n",
    "        train_dicts = df_train[df_sub].to_dict(orient='records')\n",
    "\n",
    "        dv = DictVectorizer(sparse=False)\n",
    "\n",
    "        X_train = dv.fit_transform(train_dicts)\n",
    "        val_dicts = df_val[df_sub].to_dict(orient='records')\n",
    "        X_val = dv.transform(val_dicts)\n",
    "\n",
    "        from sklearn.linear_model import LogisticRegression\n",
    "\n",
    "        model = LogisticRegression(solver='liblinear', C=10, max_iter=1000, random_state=42)\n",
    "        model.fit(X_train, y_train)\n",
    "\n",
    "       \n",
    "        y_pred = model.predict_proba(X_val)[:, 1]\n",
    "\n",
    "        decision = (y_pred >= 0.5)\n",
    "        decision = decision.astype(int)\n",
    "        score = round((y_val == decision).mean(), 2)\n",
    "\n",
    "        print(col, original_score - score, score)"
   ]
  },
  {
   "cell_type": "code",
   "execution_count": 46,
   "id": "1bf8a1d1",
   "metadata": {
    "scrolled": true
   },
   "outputs": [
    {
     "name": "stdout",
     "output_type": "stream",
     "text": [
      "make -0.009999999999999898 0.94\n",
      "model 0.010000000000000009 0.92\n",
      "transmission_type -0.019999999999999907 0.95\n",
      "vehicle_style -0.009999999999999898 0.94\n",
      "engine_hp 0.010000000000000009 0.92\n",
      "engine_cylinders -0.009999999999999898 0.94\n",
      "highway_mpg 0.010000000000000009 0.92\n",
      "year -0.019999999999999907 0.95\n"
     ]
    }
   ],
   "source": [
    "feat_elimination(data)"
   ]
  },
  {
   "cell_type": "code",
   "execution_count": null,
   "id": "67480bb8",
   "metadata": {},
   "outputs": [],
   "source": []
  },
  {
   "cell_type": "code",
   "execution_count": 47,
   "id": "e29f1c47",
   "metadata": {},
   "outputs": [],
   "source": [
    "df_fulltrain, df_test = train_test_split(df_no_missing, test_size=0.2, random_state=42)\n",
    "df_train, df_val = train_test_split(df_fulltrain, test_size=0.25, random_state=42)"
   ]
  },
  {
   "cell_type": "code",
   "execution_count": 48,
   "id": "c2c626e0",
   "metadata": {},
   "outputs": [],
   "source": [
    "df_train = df_train.reset_index(drop=True)\n",
    "df_val = df_val.reset_index(drop=True)\n",
    "df_test = df_test.reset_index(drop=True)"
   ]
  },
  {
   "cell_type": "code",
   "execution_count": 49,
   "id": "c191fa9b",
   "metadata": {},
   "outputs": [],
   "source": [
    "y_train = np.log1p(df_train['price'].values)\n",
    "y_val = np.log1p(df_val['price'].values)\n",
    "y_test = np.log1p(df_test['price'].values)"
   ]
  },
  {
   "cell_type": "code",
   "execution_count": 50,
   "id": "72768034",
   "metadata": {},
   "outputs": [],
   "source": [
    "del df_train['price']\n",
    "del df_val['price']\n",
    "del df_test['price']"
   ]
  },
  {
   "cell_type": "code",
   "execution_count": 52,
   "id": "035e8449",
   "metadata": {},
   "outputs": [],
   "source": [
    "train_dicts = df_train[categorical + numerical].to_dict(orient='records')"
   ]
  },
  {
   "cell_type": "code",
   "execution_count": 53,
   "id": "dfb38959",
   "metadata": {},
   "outputs": [],
   "source": [
    "dv = DictVectorizer(sparse=False)"
   ]
  },
  {
   "cell_type": "code",
   "execution_count": 54,
   "id": "a8276d0d",
   "metadata": {},
   "outputs": [],
   "source": [
    "X_train = dv.fit_transform(train_dicts)"
   ]
  },
  {
   "cell_type": "code",
   "execution_count": 55,
   "id": "adbd09ea",
   "metadata": {},
   "outputs": [],
   "source": [
    "val_dicts = df_val[categorical + numerical].to_dict(orient='records')"
   ]
  },
  {
   "cell_type": "code",
   "execution_count": 56,
   "id": "519dc93b",
   "metadata": {},
   "outputs": [],
   "source": [
    "X_val = dv.transform(val_dicts)"
   ]
  },
  {
   "cell_type": "code",
   "execution_count": 57,
   "id": "90213844",
   "metadata": {},
   "outputs": [],
   "source": [
    "from sklearn.linear_model import Ridge"
   ]
  },
  {
   "cell_type": "code",
   "execution_count": 60,
   "id": "5d7729bd",
   "metadata": {},
   "outputs": [],
   "source": [
    "def rmse(y, y_pred):\n",
    "    se = (y - y_pred) ** 2\n",
    "    mse = se.mean()\n",
    "    return np.sqrt(mse)\n",
    "#rmse(y_train, y_pred)"
   ]
  },
  {
   "cell_type": "code",
   "execution_count": 61,
   "id": "9b66e8ef",
   "metadata": {},
   "outputs": [
    {
     "name": "stdout",
     "output_type": "stream",
     "text": [
      "0 0.497\n",
      "0.01 0.497\n",
      "0.1 0.497\n",
      "1 0.497\n",
      "10 0.497\n"
     ]
    }
   ],
   "source": [
    "for value in [0, 0.01, 0.1, 1, 10]:\n",
    "    model = Ridge(alpha=value, solver='sag', random_state=42)\n",
    "    model.fit(X_train, y_train)\n",
    "    \n",
    "    y_pred = model.predict(X_val)\n",
    "    score = rmse(y_val, y_pred)\n",
    "    \n",
    "    print(value, round(score, 3))"
   ]
  },
  {
   "cell_type": "code",
   "execution_count": null,
   "id": "70757761",
   "metadata": {},
   "outputs": [],
   "source": []
  }
 ],
 "metadata": {
  "kernelspec": {
   "display_name": "Python 3 (ipykernel)",
   "language": "python",
   "name": "python3"
  },
  "language_info": {
   "codemirror_mode": {
    "name": "ipython",
    "version": 3
   },
   "file_extension": ".py",
   "mimetype": "text/x-python",
   "name": "python",
   "nbconvert_exporter": "python",
   "pygments_lexer": "ipython3",
   "version": "3.7.9"
  }
 },
 "nbformat": 4,
 "nbformat_minor": 5
}
